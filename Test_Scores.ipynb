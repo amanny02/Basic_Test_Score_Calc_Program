{
 "cells": [
  {
   "cell_type": "code",
   "execution_count": null,
   "metadata": {},
   "outputs": [],
   "source": [
    "#Test Scores Program\n",
    "\n",
    "\n",
    "\n",
    "\n",
    "# display a welcome message\n",
    "print(\"The Test Scores program\")\n",
    "print()\n",
    "print(\"Enter 3 test scores\")\n",
    "print(\"======================\")\n",
    "\n",
    "\n",
    "#taking inputs\n",
    "score1= int(input(\"Enter Score #1:\"))\n",
    "\n",
    "score2= int(input(\"Enter Score #2:\"))\n",
    "\n",
    "score3= int(input(\"Enter Score #3:\"))\n",
    "\n",
    "\n",
    "# printing inputs\n",
    "print(\"Your Scores:\", score1,score2,score3)\n",
    "\n",
    "\n",
    "# get scores from the user\n",
    "total_score = 0\n",
    "total_score = (score1+score2+score3)      # initialize the variable for accumulating scores\n",
    "\n",
    "\n",
    "# calculate average score\n",
    "average_score = round(total_score / 3)\n",
    "# format and display the result\n",
    "print(\"======================\")\n",
    "print(\"Total Score:  \", total_score,\n",
    "      \"\\nAverage Score:\", average_score)\n",
    "print()\n",
    "print(\"Bye\")"
   ]
  }
 ],
 "metadata": {
  "language_info": {
   "name": "python"
  }
 },
 "nbformat": 4,
 "nbformat_minor": 2
}
